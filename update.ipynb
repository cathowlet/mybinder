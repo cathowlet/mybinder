{
 "cells": [
  {
   "cell_type": "code",
   "execution_count": null,
   "metadata": {},
   "outputs": [],
   "source": [
    "import os\n",
    "import sys\n",
    "import pexpect\n",
    "\n",
    "branch = 'test'\n",
    "password = 'moments9021'\n",
    "\n",
    "def main(branch, password):\n",
    "    os.system('git add .')\n",
    "    os.system('git commit -m \"$(date)\"')\n",
    "    child = pexpect.spawn('git push origin master:%s' % branch)\n",
    "    child.logfile = sys.stdout\n",
    "    child.expect('.*name.*')\n",
    "    child.sendline('1230221121@stu.cjlu.edu.cn')\n",
    "    child.expect('.*word.*')\n",
    "    chi.d.sendline('%s' % password)\n",
    "    \n",
    "if __name__ == \"__main__\":\n",
    "    main()"
   ]
  }
 ],
 "metadata": {
  "kernelspec": {
   "display_name": "Python 3",
   "language": "python",
   "name": "python3"
  },
  "language_info": {
   "codemirror_mode": {
    "name": "ipython",
    "version": 3
   },
   "file_extension": ".py",
   "mimetype": "text/x-python",
   "name": "python",
   "nbconvert_exporter": "python",
   "pygments_lexer": "ipython3",
   "version": "3.6.5"
  }
 },
 "nbformat": 4,
 "nbformat_minor": 2
}
