{
 "cells": [
  {
   "cell_type": "code",
   "execution_count": 5,
   "metadata": {},
   "outputs": [
    {
     "name": "stdout",
     "output_type": "stream",
     "text": [
      "Username for 'https://github.com': 1230221121@stu.cjlu.edu.cn\n",
      "1230221121@stu.cjlu.edu.cn\n",
      "Password for 'https://1230221121@stu.cjlu.edu.cn@github.com': moments9021\n"
     ]
    }
   ],
   "source": [
    "import os\n",
    "import sys\n",
    "import pexpect\n",
    "\n",
    "branch = 'test'\n",
    "password = 'moments9021'\n",
    "\n",
    "def main(branch, password):\n",
    "    try:\n",
    "        os.system('git init')\n",
    "        os.system('git add .')\n",
    "        os.system('git commit -m \"$(date)\"')\n",
    "        child = pexpect.spawn('git push origin master:\\%s' % branch)\n",
    "        child.logfile = sys.stdout\n",
    "        child.expect('.*name.*')\n",
    "        child.sendline('1230221121@stu.cjlu.edu.cn')\n",
    "        child.expect('.*word.*')\n",
    "        child.sendline('%s' % password)\n",
    "    except Exception as e:\n",
    "        print(e)\n",
    "    \n",
    "if __name__ == \"__main__\":\n",
    "    main(branch, password)"
   ]
  },
  {
   "cell_type": "code",
   "execution_count": 8,
   "metadata": {},
   "outputs": [
    {
     "data": {
      "text/plain": [
       "0"
      ]
     },
     "execution_count": 8,
     "metadata": {},
     "output_type": "execute_result"
    }
   ],
   "source": [
    "os.system('git remote')"
   ]
  },
  {
   "cell_type": "code",
   "execution_count": null,
   "metadata": {},
   "outputs": [],
   "source": []
  }
 ],
 "metadata": {
  "kernelspec": {
   "display_name": "Python 3",
   "language": "python",
   "name": "python3"
  },
  "language_info": {
   "codemirror_mode": {
    "name": "ipython",
    "version": 3
   },
   "file_extension": ".py",
   "mimetype": "text/x-python",
   "name": "python",
   "nbconvert_exporter": "python",
   "pygments_lexer": "ipython3",
   "version": "3.6.5"
  }
 },
 "nbformat": 4,
 "nbformat_minor": 2
}
